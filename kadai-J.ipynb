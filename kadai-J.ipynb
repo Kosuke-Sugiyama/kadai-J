{
 "cells": [
  {
   "cell_type": "markdown",
   "metadata": {},
   "source": [
    "# 課題J: 評価プロトコルの理解と実装"
   ]
  },
  {
   "cell_type": "markdown",
   "metadata": {},
   "source": [
    "## 課題J-1 交差検証\n",
    "\n",
    "1. ホールドアウト\n",
    "       データの集まりをモデルを作る学習用データとモデルを評価するテストデータに分割する方法\n",
    "       モデルを評価するテストデータは未知のデータである必要があるので、\n",
    "       疑似的に未知のデータを作るこの手法が用いられる\n",
    "       \n",
    "       - ① データセットを学習データとテストデータに分割する\n",
    "       - ② 学習データで数理モデルを作る\n",
    "       - ③ テストデータでモデルを評価する\n",
    "       \n",
    "2. 交差検証\n",
    "       用意したデータをいくつかに分割して、その分割したデータのうち一つをテストデータとして残りのデータを学習データとし、\n",
    "       モデルを作成し評価する、次に前回テストデータには使用していないデータをテストデータに選択して残りのデータを学習データとしてモデルを作成し評価する。これを分割した回数繰り返し、その平均で評価する\n",
    "       データの偏りが生まれにくいため正しい評価が出やすい\n",
    "       \n",
    "       - ① データセットをいくつかの数で分割する\n",
    "       - ② 分割したデータの中から学習データとテストデータに分ける\n",
    "       - ③ 学習データで数理モデルを作る\n",
    "       - ④ テストデータでモデルを評価する\n",
    "       - ⑤ これまでにテストデータとして選んでいないデータをテストデータに選び残りを学習データとして③に戻る\n",
    "       - ⑥ すべてのデータをテストデータとして選び終えたら、それぞれのモデルの評価の平均をとる\n",
    "       \n",
    "      \n",
    "3. ホールドアウトとの違い\n",
    "        テストデータと学習データをホールドアウトは2分割, 交差検証は3分割以上で分ける方法\n",
    "        交差検証では学習データを取り換えているので、データが偏る確率が少なくなる\n",
    "        \n",
    "3. メリット、デメリット\n",
    "\n",
    "        メリット  : データが少ないときの評価に適している \n",
    "        デメリット: データ数が多すぎると時間がかかってしまう\n",
    "        \n",
    "        "
   ]
  },
  {
   "cell_type": "code",
   "execution_count": 1,
   "metadata": {
    "ExecuteTime": {
     "end_time": "2019-10-02T07:47:46.627087Z",
     "start_time": "2019-10-02T07:47:40.927998Z"
    }
   },
   "outputs": [],
   "source": [
    "import warnings\n",
    "\n",
    "import matplotlib.pyplot as plt\n",
    "import numpy as np\n",
    "import pandas as pd\n",
    "import seaborn as sns\n",
    "\n",
    "warnings.filterwarnings('ignore')\n",
    "\n",
    "%matplotlib inline"
   ]
  },
  {
   "cell_type": "code",
   "execution_count": 2,
   "metadata": {
    "ExecuteTime": {
     "end_time": "2019-10-02T07:47:46.739787Z",
     "start_time": "2019-10-02T07:47:46.637056Z"
    }
   },
   "outputs": [],
   "source": [
    "train = pd.read_csv('./titanic/train.csv')\n",
    "test =  pd.read_csv('./titanic/test.csv')\n"
   ]
  },
  {
   "cell_type": "code",
   "execution_count": 3,
   "metadata": {
    "ExecuteTime": {
     "end_time": "2019-10-02T07:47:50.926123Z",
     "start_time": "2019-10-02T07:47:46.745763Z"
    }
   },
   "outputs": [
    {
     "name": "stdout",
     "output_type": "stream",
     "text": [
      "train_score :  0.686\n",
      "test_score :  0.685\n"
     ]
    }
   ],
   "source": [
    "from sklearn.model_selection import KFold\n",
    "from sklearn.linear_model import LogisticRegression\n",
    "from sklearn.metrics import accuracy_score\n",
    "\n",
    "K = 5 \n",
    "kf = KFold(n_splits=K, shuffle=True, random_state=0)\n",
    "\n",
    "X = train.drop(columns=['Survived','Cabin','Name','PassengerId','Sex','Embarked','Ticket','Age'])\n",
    "y = train['Survived']\n",
    "\n",
    "score_train = 0\n",
    "score_test = 0\n",
    "\n",
    "for train_index, test_index in kf.split(X):\n",
    "    X_train, X_test = X.iloc[train_index], X.iloc[test_index]\n",
    "    y_train, y_test = y.iloc[train_index], y.iloc[test_index]\n",
    "    \n",
    "    logistic_regression = LogisticRegression()\n",
    "    logistic_regression.fit(X_train,y_train)\n",
    "    \n",
    "    pred_train = logistic_regression.predict(X_train)\n",
    "    \n",
    "    auccuracy = accuracy_score(pred_train, y_train)\n",
    "    score_train += auccuracy\n",
    "    \n",
    "    pred_test = logistic_regression.predict(X_test)\n",
    "    auccuracy = accuracy_score(pred_test, y_test)\n",
    "    \n",
    "    score_test += auccuracy\n",
    "\n",
    "print(f'train_score : {score_train / K : .3f}')\n",
    "print(f'test_score : {score_test / K : .3f}')"
   ]
  },
  {
   "cell_type": "markdown",
   "metadata": {},
   "source": [
    "## 課題J-2 交差検証のバリエーション(StratifiedKFold)\n",
    "\n",
    "  - 分布の比率を維持したまま学習用データとテスト用データに分けてくれる\n",
    "  - 分布に大きな偏りがある場合はこちらを使用する\n"
   ]
  },
  {
   "cell_type": "code",
   "execution_count": 4,
   "metadata": {
    "ExecuteTime": {
     "end_time": "2019-10-02T07:47:51.087224Z",
     "start_time": "2019-10-02T07:47:50.934095Z"
    }
   },
   "outputs": [
    {
     "name": "stdout",
     "output_type": "stream",
     "text": [
      "train_score :  0.687\n",
      "test_score :  0.688\n"
     ]
    }
   ],
   "source": [
    "from sklearn.model_selection import StratifiedKFold\n",
    "\n",
    "K = 5\n",
    "\n",
    "skf = StratifiedKFold(n_splits=K, shuffle=True, random_state=0)\n",
    "\n",
    "score_train = 0\n",
    "score_test = 0\n",
    "\n",
    "\n",
    "for train_index, test_index in skf.split(X,y):\n",
    "    X_train, X_test = X.iloc[train_index], X.iloc[test_index]\n",
    "    y_train, y_test = y.iloc[train_index], y.iloc[test_index]\n",
    "    \n",
    "    clf = RandomForestClassifier(n_estimators=100, max_depth=2, random_state=0)\n",
    "#     logistic_regression.fit(X_train,y_train)\n",
    "    clf.fit(X_train,y_train)\n",
    "    \n",
    "#     pred_train = logistic_regression.predict(X_train)\n",
    "    pred_train = clf.predict(X_train)\n",
    "    \n",
    "    auccuracy = accuracy_score(pred_train, y_train)\n",
    "    score_train += auccuracy\n",
    "    \n",
    "#     pred_test = logistic_regression.predict(X_test)\n",
    "    pred_test = clf.predict(X_test)\n",
    "    auccuracy = accuracy_score(pred_test, y_test)\n",
    "    \n",
    "    score_test += auccuracy\n",
    "\n",
    "print(f'train_score : {score_train / K : .3f}')\n",
    "print(f'test_score : {score_test / K : .3f}')"
   ]
  },
  {
   "cell_type": "markdown",
   "metadata": {},
   "source": [
    "## 課題J-3 交差検証のバリエーション(GroupKFold)\n",
    "\n",
    "  - 学習用データとテスト用データの間に同じグループが分割しないように分けてくれる\n",
    "  - グループとは同じ人からデータをとっている場合など判別が容易となる組み合わせを作らないこと"
   ]
  },
  {
   "cell_type": "code",
   "execution_count": 5,
   "metadata": {
    "ExecuteTime": {
     "end_time": "2019-10-02T07:47:55.171814Z",
     "start_time": "2019-10-02T07:47:51.101185Z"
    }
   },
   "outputs": [],
   "source": [
    "group = train['Ticket']\n",
    "count = 0\n",
    "for rename in range(0,len(group.index)):\n",
    "    group = group.replace(group.iloc[count], rename)\n",
    "    count += 1"
   ]
  },
  {
   "cell_type": "code",
   "execution_count": 6,
   "metadata": {
    "ExecuteTime": {
     "end_time": "2019-10-02T07:47:55.407184Z",
     "start_time": "2019-10-02T07:47:55.186791Z"
    }
   },
   "outputs": [
    {
     "name": "stdout",
     "output_type": "stream",
     "text": [
      "train_score :  0.684\n",
      "test_score :  0.685\n"
     ]
    }
   ],
   "source": [
    "from sklearn.model_selection import GroupKFold\n",
    "\n",
    "K = 5\n",
    "\n",
    "gkf = GroupKFold(n_splits=K)\n",
    "\n",
    "score_train = 0\n",
    "score_test = 0\n",
    "\n",
    "\n",
    "for train_index, test_index in gkf.split(X,y,group):\n",
    "    X_train, X_test = X.iloc[train_index], X.iloc[test_index]\n",
    "    y_train, y_test = y.iloc[train_index], y.iloc[test_index]\n",
    "    \n",
    "    logistic_regression = LogisticRegression()\n",
    "    logistic_regression.fit(X_train,y_train)\n",
    "    \n",
    "    pred_train = logistic_regression.predict(X_train)\n",
    "    \n",
    "    auccuracy = accuracy_score(pred_train, y_train)\n",
    "    score_train += auccuracy\n",
    "    \n",
    "    pred_test = logistic_regression.predict(X_test)\n",
    "    auccuracy = accuracy_score(pred_test, y_test)\n",
    "    \n",
    "    score_test += auccuracy\n",
    "\n",
    "print(f'train_score : {score_train / K : .3f}')\n",
    "print(f'test_score : {score_test / K : .3f}')\n"
   ]
  },
  {
   "cell_type": "markdown",
   "metadata": {},
   "source": [
    "終わり"
   ]
  }
 ],
 "metadata": {
  "kernelspec": {
   "display_name": "Python 3",
   "language": "python",
   "name": "python3"
  },
  "language_info": {
   "codemirror_mode": {
    "name": "ipython",
    "version": 3
   },
   "file_extension": ".py",
   "mimetype": "text/x-python",
   "name": "python",
   "nbconvert_exporter": "python",
   "pygments_lexer": "ipython3",
   "version": "3.7.3"
  },
  "toc": {
   "base_numbering": 1,
   "nav_menu": {},
   "number_sections": true,
   "sideBar": true,
   "skip_h1_title": false,
   "title_cell": "Table of Contents",
   "title_sidebar": "Contents",
   "toc_cell": false,
   "toc_position": {},
   "toc_section_display": true,
   "toc_window_display": false
  }
 },
 "nbformat": 4,
 "nbformat_minor": 2
}
